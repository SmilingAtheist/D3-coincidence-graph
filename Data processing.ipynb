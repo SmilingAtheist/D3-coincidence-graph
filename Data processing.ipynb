{
 "cells": [
  {
   "cell_type": "code",
   "execution_count": 23,
   "metadata": {
    "collapsed": true
   },
   "outputs": [],
   "source": [
    "%matplotlib inline\n",
    "import numpy as np\n",
    "import seaborn as sns\n",
    "import matplotlib.pyplot as plt\n",
    "import pandas as pd\n",
    "import re"
   ]
  },
  {
   "cell_type": "markdown",
   "metadata": {},
   "source": [
    "## Reading data and extracting synopsis column"
   ]
  },
  {
   "cell_type": "code",
   "execution_count": 24,
   "metadata": {
    "collapsed": false
   },
   "outputs": [],
   "source": [
    "df = pd.read_csv(\"ANNreviews.csv\")"
   ]
  },
  {
   "cell_type": "code",
   "execution_count": 25,
   "metadata": {
    "collapsed": false
   },
   "outputs": [
    {
     "data": {
      "text/html": [
       "<div>\n",
       "<table border=\"1\" class=\"dataframe\">\n",
       "  <thead>\n",
       "    <tr style=\"text-align: right;\">\n",
       "      <th></th>\n",
       "      <th>Name2</th>\n",
       "      <th>Review</th>\n",
       "      <th>Synopsis</th>\n",
       "      <th>Good_points</th>\n",
       "      <th>Ratings</th>\n",
       "      <th>Name</th>\n",
       "      <th>Bad_points</th>\n",
       "    </tr>\n",
       "  </thead>\n",
       "  <tbody>\n",
       "    <tr>\n",
       "      <th>0</th>\n",
       "      <td>GN 7</td>\n",
       "      <td>\\r\\n,\\r\\nA Silent Voice reached its climax at ...</td>\n",
       "      <td>At last, Shoya has woken up. Racing to the bri...</td>\n",
       "      <td>Maintains A Silent Voice's usual acuity of ar...</td>\n",
       "      <td>{'Overall': 'B+', 'Art': 'A-', 'Story': 'B-'}</td>\n",
       "      <td>A Silent Voice</td>\n",
       "      <td>Feels a bit overlong in its resolutions, and ...</td>\n",
       "    </tr>\n",
       "    <tr>\n",
       "      <th>1</th>\n",
       "      <td>DVD 1</td>\n",
       "      <td>\\r\\n,\\r\\nTo fully and correctly appreciate 009...</td>\n",
       "      <td>In a world where the Cold War continues well p...</td>\n",
       "      <td>Musical score, fan service.</td>\n",
       "      <td>{'Animation': 'B-', 'Overall (dub)': 'B', 'Mus...</td>\n",
       "      <td>009-1</td>\n",
       "      <td>Some character designs are appallingly ugly, ...</td>\n",
       "    </tr>\n",
       "    <tr>\n",
       "      <th>2</th>\n",
       "      <td>Sub.Blu-Ray</td>\n",
       "      <td>\\r\\n,\\r\\nWhat happens when you take twenty-sev...</td>\n",
       "      <td>Haruto can't bring himself to accept that his ...</td>\n",
       "      <td>Some great voice work and nice animation, tri...</td>\n",
       "      <td>{'Animation': 'B', 'Overall (sub)': 'C', 'Musi...</td>\n",
       "      <td>A Town Where You Live</td>\n",
       "      <td>Story comes off melodramatic without much emo...</td>\n",
       "    </tr>\n",
       "    <tr>\n",
       "      <th>3</th>\n",
       "      <td>GN 6</td>\n",
       "      <td>\\r\\n,\\r\\nIt's always an interesting experience...</td>\n",
       "      <td>Seeing Shoko about to leap off her balcony, Sh...</td>\n",
       "      <td>Doubles down on the manga's terrific characte...</td>\n",
       "      <td>{'Overall': 'A', 'Art': 'A-', 'Story': 'A'}</td>\n",
       "      <td>A Silent Voice</td>\n",
       "      <td>A couple dramatic points felt a little loosel...</td>\n",
       "    </tr>\n",
       "    <tr>\n",
       "      <th>4</th>\n",
       "      <td>GN 4</td>\n",
       "      <td>\\r\\n,\\r\\nIt feels like A Silent Voice's densit...</td>\n",
       "      <td>Things continue to change little by little for...</td>\n",
       "      <td>Continues to demonstrate wondrously poignant ...</td>\n",
       "      <td>{'Overall': 'A-', 'Art': 'B', 'Story': 'A'}</td>\n",
       "      <td>A Silent Voice</td>\n",
       "      <td>Some dramatic developments here could have us...</td>\n",
       "    </tr>\n",
       "  </tbody>\n",
       "</table>\n",
       "</div>"
      ],
      "text/plain": [
       "         Name2                                             Review  \\\n",
       "0         GN 7  \\r\\n,\\r\\nA Silent Voice reached its climax at ...   \n",
       "1        DVD 1  \\r\\n,\\r\\nTo fully and correctly appreciate 009...   \n",
       "2  Sub.Blu-Ray  \\r\\n,\\r\\nWhat happens when you take twenty-sev...   \n",
       "3         GN 6  \\r\\n,\\r\\nIt's always an interesting experience...   \n",
       "4         GN 4  \\r\\n,\\r\\nIt feels like A Silent Voice's densit...   \n",
       "\n",
       "                                            Synopsis  \\\n",
       "0  At last, Shoya has woken up. Racing to the bri...   \n",
       "1  In a world where the Cold War continues well p...   \n",
       "2  Haruto can't bring himself to accept that his ...   \n",
       "3  Seeing Shoko about to leap off her balcony, Sh...   \n",
       "4  Things continue to change little by little for...   \n",
       "\n",
       "                                         Good_points  \\\n",
       "0   Maintains A Silent Voice's usual acuity of ar...   \n",
       "1                        Musical score, fan service.   \n",
       "2   Some great voice work and nice animation, tri...   \n",
       "3   Doubles down on the manga's terrific characte...   \n",
       "4   Continues to demonstrate wondrously poignant ...   \n",
       "\n",
       "                                             Ratings                   Name  \\\n",
       "0      {'Overall': 'B+', 'Art': 'A-', 'Story': 'B-'}         A Silent Voice   \n",
       "1  {'Animation': 'B-', 'Overall (dub)': 'B', 'Mus...                  009-1   \n",
       "2  {'Animation': 'B', 'Overall (sub)': 'C', 'Musi...  A Town Where You Live   \n",
       "3        {'Overall': 'A', 'Art': 'A-', 'Story': 'A'}         A Silent Voice   \n",
       "4        {'Overall': 'A-', 'Art': 'B', 'Story': 'A'}         A Silent Voice   \n",
       "\n",
       "                                          Bad_points  \n",
       "0   Feels a bit overlong in its resolutions, and ...  \n",
       "1   Some character designs are appallingly ugly, ...  \n",
       "2   Story comes off melodramatic without much emo...  \n",
       "3   A couple dramatic points felt a little loosel...  \n",
       "4   Some dramatic developments here could have us...  "
      ]
     },
     "execution_count": 25,
     "metadata": {},
     "output_type": "execute_result"
    }
   ],
   "source": [
    "df.head()"
   ]
  },
  {
   "cell_type": "code",
   "execution_count": 26,
   "metadata": {
    "collapsed": false
   },
   "outputs": [
    {
     "data": {
      "text/html": [
       "<div>\n",
       "<table border=\"1\" class=\"dataframe\">\n",
       "  <thead>\n",
       "    <tr style=\"text-align: right;\">\n",
       "      <th></th>\n",
       "      <th>Name2</th>\n",
       "      <th>Review</th>\n",
       "      <th>Synopsis</th>\n",
       "      <th>Good_points</th>\n",
       "      <th>Ratings</th>\n",
       "      <th>Name</th>\n",
       "      <th>Bad_points</th>\n",
       "    </tr>\n",
       "  </thead>\n",
       "  <tbody>\n",
       "    <tr>\n",
       "      <th>count</th>\n",
       "      <td>3917</td>\n",
       "      <td>4174</td>\n",
       "      <td>4174</td>\n",
       "      <td>4142</td>\n",
       "      <td>4174</td>\n",
       "      <td>4162</td>\n",
       "      <td>4139</td>\n",
       "    </tr>\n",
       "    <tr>\n",
       "      <th>unique</th>\n",
       "      <td>1583</td>\n",
       "      <td>4174</td>\n",
       "      <td>4171</td>\n",
       "      <td>4129</td>\n",
       "      <td>2574</td>\n",
       "      <td>2561</td>\n",
       "      <td>4128</td>\n",
       "    </tr>\n",
       "    <tr>\n",
       "      <th>top</th>\n",
       "      <td>GN 1</td>\n",
       "      <td>\\r\\n,Super Robot Wars-- best to assume you don...</td>\n",
       "      <td>\\r\\n,\\r\\nImagine if the internet was 'projecte...</td>\n",
       "      <td></td>\n",
       "      <td>{}</td>\n",
       "      <td>Bleach</td>\n",
       "      <td></td>\n",
       "    </tr>\n",
       "    <tr>\n",
       "      <th>freq</th>\n",
       "      <td>329</td>\n",
       "      <td>1</td>\n",
       "      <td>2</td>\n",
       "      <td>5</td>\n",
       "      <td>73</td>\n",
       "      <td>29</td>\n",
       "      <td>4</td>\n",
       "    </tr>\n",
       "  </tbody>\n",
       "</table>\n",
       "</div>"
      ],
      "text/plain": [
       "       Name2                                             Review  \\\n",
       "count   3917                                               4174   \n",
       "unique  1583                                               4174   \n",
       "top     GN 1  \\r\\n,Super Robot Wars-- best to assume you don...   \n",
       "freq     329                                                  1   \n",
       "\n",
       "                                                 Synopsis Good_points Ratings  \\\n",
       "count                                                4174        4142    4174   \n",
       "unique                                               4171        4129    2574   \n",
       "top     \\r\\n,\\r\\nImagine if the internet was 'projecte...                  {}   \n",
       "freq                                                    2           5      73   \n",
       "\n",
       "          Name Bad_points  \n",
       "count     4162       4139  \n",
       "unique    2561       4128  \n",
       "top     Bleach             \n",
       "freq        29          4  "
      ]
     },
     "execution_count": 26,
     "metadata": {},
     "output_type": "execute_result"
    }
   ],
   "source": [
    "df.describe()"
   ]
  },
  {
   "cell_type": "code",
   "execution_count": 27,
   "metadata": {
    "collapsed": true
   },
   "outputs": [],
   "source": [
    "nodes = []\n",
    "edges = []\n",
    "pairs = []"
   ]
  },
  {
   "cell_type": "code",
   "execution_count": 28,
   "metadata": {
    "collapsed": true
   },
   "outputs": [],
   "source": [
    "from nltk import word_tokenize\n",
    "\n",
    "def preprocess_text(text):\n",
    "    if not pd.isnull(text):\n",
    "        text = re.sub(r'\\n|\\t|\\r', r' ', text, flags = re.DOTALL) #removing \\n, \\t and \\r\n",
    "        text = re.sub(r' +', r' ', text) #multiple spaces to one space\n",
    "        text = re.sub(r'\\d+', r'', text) # we really don't want to have '9/10' as the most important feature\n",
    "        text = text.lower()\n",
    "        text = word_tokenize(text)   \n",
    "    return text"
   ]
  },
  {
   "cell_type": "code",
   "execution_count": 29,
   "metadata": {
    "collapsed": false
   },
   "outputs": [],
   "source": [
    "# Preprocessing all text (except titles) form Anime News Network\n",
    "columns = [\"Synopsis\", \"Review\" ,\"Good_points\", \"Bad_points\"]\n",
    "\n",
    "df2 = df.copy()\n",
    "\n",
    "for col in columns:\n",
    "    df2[col] = df[col].map(preprocess_text)"
   ]
  },
  {
   "cell_type": "code",
   "execution_count": 30,
   "metadata": {
    "collapsed": false
   },
   "outputs": [
    {
     "data": {
      "text/html": [
       "<div>\n",
       "<table border=\"1\" class=\"dataframe\">\n",
       "  <thead>\n",
       "    <tr style=\"text-align: right;\">\n",
       "      <th></th>\n",
       "      <th>Name2</th>\n",
       "      <th>Review</th>\n",
       "      <th>Synopsis</th>\n",
       "      <th>Good_points</th>\n",
       "      <th>Ratings</th>\n",
       "      <th>Name</th>\n",
       "      <th>Bad_points</th>\n",
       "    </tr>\n",
       "  </thead>\n",
       "  <tbody>\n",
       "    <tr>\n",
       "      <th>0</th>\n",
       "      <td>GN 7</td>\n",
       "      <td>\\r\\n,\\r\\nA Silent Voice reached its climax at ...</td>\n",
       "      <td>At last, Shoya has woken up. Racing to the bri...</td>\n",
       "      <td>Maintains A Silent Voice's usual acuity of ar...</td>\n",
       "      <td>{'Overall': 'B+', 'Art': 'A-', 'Story': 'B-'}</td>\n",
       "      <td>A Silent Voice</td>\n",
       "      <td>Feels a bit overlong in its resolutions, and ...</td>\n",
       "    </tr>\n",
       "    <tr>\n",
       "      <th>1</th>\n",
       "      <td>DVD 1</td>\n",
       "      <td>\\r\\n,\\r\\nTo fully and correctly appreciate 009...</td>\n",
       "      <td>In a world where the Cold War continues well p...</td>\n",
       "      <td>Musical score, fan service.</td>\n",
       "      <td>{'Animation': 'B-', 'Overall (dub)': 'B', 'Mus...</td>\n",
       "      <td>009-1</td>\n",
       "      <td>Some character designs are appallingly ugly, ...</td>\n",
       "    </tr>\n",
       "    <tr>\n",
       "      <th>2</th>\n",
       "      <td>Sub.Blu-Ray</td>\n",
       "      <td>\\r\\n,\\r\\nWhat happens when you take twenty-sev...</td>\n",
       "      <td>Haruto can't bring himself to accept that his ...</td>\n",
       "      <td>Some great voice work and nice animation, tri...</td>\n",
       "      <td>{'Animation': 'B', 'Overall (sub)': 'C', 'Musi...</td>\n",
       "      <td>A Town Where You Live</td>\n",
       "      <td>Story comes off melodramatic without much emo...</td>\n",
       "    </tr>\n",
       "    <tr>\n",
       "      <th>3</th>\n",
       "      <td>GN 6</td>\n",
       "      <td>\\r\\n,\\r\\nIt's always an interesting experience...</td>\n",
       "      <td>Seeing Shoko about to leap off her balcony, Sh...</td>\n",
       "      <td>Doubles down on the manga's terrific characte...</td>\n",
       "      <td>{'Overall': 'A', 'Art': 'A-', 'Story': 'A'}</td>\n",
       "      <td>A Silent Voice</td>\n",
       "      <td>A couple dramatic points felt a little loosel...</td>\n",
       "    </tr>\n",
       "    <tr>\n",
       "      <th>4</th>\n",
       "      <td>GN 4</td>\n",
       "      <td>\\r\\n,\\r\\nIt feels like A Silent Voice's densit...</td>\n",
       "      <td>Things continue to change little by little for...</td>\n",
       "      <td>Continues to demonstrate wondrously poignant ...</td>\n",
       "      <td>{'Overall': 'A-', 'Art': 'B', 'Story': 'A'}</td>\n",
       "      <td>A Silent Voice</td>\n",
       "      <td>Some dramatic developments here could have us...</td>\n",
       "    </tr>\n",
       "  </tbody>\n",
       "</table>\n",
       "</div>"
      ],
      "text/plain": [
       "         Name2                                             Review  \\\n",
       "0         GN 7  \\r\\n,\\r\\nA Silent Voice reached its climax at ...   \n",
       "1        DVD 1  \\r\\n,\\r\\nTo fully and correctly appreciate 009...   \n",
       "2  Sub.Blu-Ray  \\r\\n,\\r\\nWhat happens when you take twenty-sev...   \n",
       "3         GN 6  \\r\\n,\\r\\nIt's always an interesting experience...   \n",
       "4         GN 4  \\r\\n,\\r\\nIt feels like A Silent Voice's densit...   \n",
       "\n",
       "                                            Synopsis  \\\n",
       "0  At last, Shoya has woken up. Racing to the bri...   \n",
       "1  In a world where the Cold War continues well p...   \n",
       "2  Haruto can't bring himself to accept that his ...   \n",
       "3  Seeing Shoko about to leap off her balcony, Sh...   \n",
       "4  Things continue to change little by little for...   \n",
       "\n",
       "                                         Good_points  \\\n",
       "0   Maintains A Silent Voice's usual acuity of ar...   \n",
       "1                        Musical score, fan service.   \n",
       "2   Some great voice work and nice animation, tri...   \n",
       "3   Doubles down on the manga's terrific characte...   \n",
       "4   Continues to demonstrate wondrously poignant ...   \n",
       "\n",
       "                                             Ratings                   Name  \\\n",
       "0      {'Overall': 'B+', 'Art': 'A-', 'Story': 'B-'}         A Silent Voice   \n",
       "1  {'Animation': 'B-', 'Overall (dub)': 'B', 'Mus...                  009-1   \n",
       "2  {'Animation': 'B', 'Overall (sub)': 'C', 'Musi...  A Town Where You Live   \n",
       "3        {'Overall': 'A', 'Art': 'A-', 'Story': 'A'}         A Silent Voice   \n",
       "4        {'Overall': 'A-', 'Art': 'B', 'Story': 'A'}         A Silent Voice   \n",
       "\n",
       "                                          Bad_points  \n",
       "0   Feels a bit overlong in its resolutions, and ...  \n",
       "1   Some character designs are appallingly ugly, ...  \n",
       "2   Story comes off melodramatic without much emo...  \n",
       "3   A couple dramatic points felt a little loosel...  \n",
       "4   Some dramatic developments here could have us...  "
      ]
     },
     "execution_count": 30,
     "metadata": {},
     "output_type": "execute_result"
    }
   ],
   "source": [
    "df.head()"
   ]
  },
  {
   "cell_type": "code",
   "execution_count": 31,
   "metadata": {
    "collapsed": false
   },
   "outputs": [
    {
     "data": {
      "text/html": [
       "<div>\n",
       "<table border=\"1\" class=\"dataframe\">\n",
       "  <thead>\n",
       "    <tr style=\"text-align: right;\">\n",
       "      <th></th>\n",
       "      <th>Name2</th>\n",
       "      <th>Review</th>\n",
       "      <th>Synopsis</th>\n",
       "      <th>Good_points</th>\n",
       "      <th>Ratings</th>\n",
       "      <th>Name</th>\n",
       "      <th>Bad_points</th>\n",
       "    </tr>\n",
       "  </thead>\n",
       "  <tbody>\n",
       "    <tr>\n",
       "      <th>0</th>\n",
       "      <td>GN 7</td>\n",
       "      <td>[,, a, silent, voice, reached, its, climax, at...</td>\n",
       "      <td>[at, last, ,, shoya, has, woken, up, ., racing...</td>\n",
       "      <td>[maintains, a, silent, voice, 's, usual, acuit...</td>\n",
       "      <td>{'Overall': 'B+', 'Art': 'A-', 'Story': 'B-'}</td>\n",
       "      <td>A Silent Voice</td>\n",
       "      <td>[feels, a, bit, overlong, in, its, resolutions...</td>\n",
       "    </tr>\n",
       "    <tr>\n",
       "      <th>1</th>\n",
       "      <td>DVD 1</td>\n",
       "      <td>[,, to, fully, and, correctly, appreciate, -, ...</td>\n",
       "      <td>[in, a, world, where, the, cold, war, continue...</td>\n",
       "      <td>[musical, score, ,, fan, service, .]</td>\n",
       "      <td>{'Animation': 'B-', 'Overall (dub)': 'B', 'Mus...</td>\n",
       "      <td>009-1</td>\n",
       "      <td>[some, character, designs, are, appallingly, u...</td>\n",
       "    </tr>\n",
       "    <tr>\n",
       "      <th>2</th>\n",
       "      <td>Sub.Blu-Ray</td>\n",
       "      <td>[,, what, happens, when, you, take, twenty-sev...</td>\n",
       "      <td>[haruto, ca, n't, bring, himself, to, accept, ...</td>\n",
       "      <td>[some, great, voice, work, and, nice, animatio...</td>\n",
       "      <td>{'Animation': 'B', 'Overall (sub)': 'C', 'Musi...</td>\n",
       "      <td>A Town Where You Live</td>\n",
       "      <td>[story, comes, off, melodramatic, without, muc...</td>\n",
       "    </tr>\n",
       "    <tr>\n",
       "      <th>3</th>\n",
       "      <td>GN 6</td>\n",
       "      <td>[,, it, 's, always, an, interesting, experienc...</td>\n",
       "      <td>[seeing, shoko, about, to, leap, off, her, bal...</td>\n",
       "      <td>[doubles, down, on, the, manga, 's, terrific, ...</td>\n",
       "      <td>{'Overall': 'A', 'Art': 'A-', 'Story': 'A'}</td>\n",
       "      <td>A Silent Voice</td>\n",
       "      <td>[a, couple, dramatic, points, felt, a, little,...</td>\n",
       "    </tr>\n",
       "    <tr>\n",
       "      <th>4</th>\n",
       "      <td>GN 4</td>\n",
       "      <td>[,, it, feels, like, a, silent, voice, 's, den...</td>\n",
       "      <td>[things, continue, to, change, little, by, lit...</td>\n",
       "      <td>[continues, to, demonstrate, wondrously, poign...</td>\n",
       "      <td>{'Overall': 'A-', 'Art': 'B', 'Story': 'A'}</td>\n",
       "      <td>A Silent Voice</td>\n",
       "      <td>[some, dramatic, developments, here, could, ha...</td>\n",
       "    </tr>\n",
       "  </tbody>\n",
       "</table>\n",
       "</div>"
      ],
      "text/plain": [
       "         Name2                                             Review  \\\n",
       "0         GN 7  [,, a, silent, voice, reached, its, climax, at...   \n",
       "1        DVD 1  [,, to, fully, and, correctly, appreciate, -, ...   \n",
       "2  Sub.Blu-Ray  [,, what, happens, when, you, take, twenty-sev...   \n",
       "3         GN 6  [,, it, 's, always, an, interesting, experienc...   \n",
       "4         GN 4  [,, it, feels, like, a, silent, voice, 's, den...   \n",
       "\n",
       "                                            Synopsis  \\\n",
       "0  [at, last, ,, shoya, has, woken, up, ., racing...   \n",
       "1  [in, a, world, where, the, cold, war, continue...   \n",
       "2  [haruto, ca, n't, bring, himself, to, accept, ...   \n",
       "3  [seeing, shoko, about, to, leap, off, her, bal...   \n",
       "4  [things, continue, to, change, little, by, lit...   \n",
       "\n",
       "                                         Good_points  \\\n",
       "0  [maintains, a, silent, voice, 's, usual, acuit...   \n",
       "1               [musical, score, ,, fan, service, .]   \n",
       "2  [some, great, voice, work, and, nice, animatio...   \n",
       "3  [doubles, down, on, the, manga, 's, terrific, ...   \n",
       "4  [continues, to, demonstrate, wondrously, poign...   \n",
       "\n",
       "                                             Ratings                   Name  \\\n",
       "0      {'Overall': 'B+', 'Art': 'A-', 'Story': 'B-'}         A Silent Voice   \n",
       "1  {'Animation': 'B-', 'Overall (dub)': 'B', 'Mus...                  009-1   \n",
       "2  {'Animation': 'B', 'Overall (sub)': 'C', 'Musi...  A Town Where You Live   \n",
       "3        {'Overall': 'A', 'Art': 'A-', 'Story': 'A'}         A Silent Voice   \n",
       "4        {'Overall': 'A-', 'Art': 'B', 'Story': 'A'}         A Silent Voice   \n",
       "\n",
       "                                          Bad_points  \n",
       "0  [feels, a, bit, overlong, in, its, resolutions...  \n",
       "1  [some, character, designs, are, appallingly, u...  \n",
       "2  [story, comes, off, melodramatic, without, muc...  \n",
       "3  [a, couple, dramatic, points, felt, a, little,...  \n",
       "4  [some, dramatic, developments, here, could, ha...  "
      ]
     },
     "execution_count": 31,
     "metadata": {},
     "output_type": "execute_result"
    }
   ],
   "source": [
    "df2.head()"
   ]
  },
  {
   "cell_type": "code",
   "execution_count": 75,
   "metadata": {
    "collapsed": false
   },
   "outputs": [
    {
     "data": {
      "text/plain": [
       "4174"
      ]
     },
     "execution_count": 75,
     "metadata": {},
     "output_type": "execute_result"
    }
   ],
   "source": [
    "len(df)"
   ]
  },
  {
   "cell_type": "code",
   "execution_count": 32,
   "metadata": {
    "collapsed": false
   },
   "outputs": [],
   "source": [
    "synopsis = df2[\"Synopsis\"].copy()"
   ]
  },
  {
   "cell_type": "code",
   "execution_count": 33,
   "metadata": {
    "collapsed": false
   },
   "outputs": [
    {
     "data": {
      "text/plain": [
       "0    [at, last, ,, shoya, has, woken, up, ., racing...\n",
       "1    [in, a, world, where, the, cold, war, continue...\n",
       "2    [haruto, ca, n't, bring, himself, to, accept, ...\n",
       "3    [seeing, shoko, about, to, leap, off, her, bal...\n",
       "4    [things, continue, to, change, little, by, lit...\n",
       "5    [it, 's, a, few, years, in, the, future, (, wh...\n",
       "6    [six, short, stories, reveal, how, love, lette...\n",
       "7    [summer, vacation, is, approaching, ,, and, to...\n",
       "8    [six, years, ago, ,, shoya, 's, bullying, of, ...\n",
       "9    [years, ago, ,, it, was, shoya, 's, bullying, ...\n",
       "Name: Synopsis, dtype: object"
      ]
     },
     "execution_count": 33,
     "metadata": {},
     "output_type": "execute_result"
    }
   ],
   "source": [
    "synopsis[:10]"
   ]
  },
  {
   "cell_type": "code",
   "execution_count": 34,
   "metadata": {
    "collapsed": false
   },
   "outputs": [
    {
     "data": {
      "text/plain": [
       "4174"
      ]
     },
     "execution_count": 34,
     "metadata": {},
     "output_type": "execute_result"
    }
   ],
   "source": [
    "len(synopsis)"
   ]
  },
  {
   "cell_type": "code",
   "execution_count": 35,
   "metadata": {
    "collapsed": false
   },
   "outputs": [
    {
     "data": {
      "text/plain": [
       "147.94226161954958"
      ]
     },
     "execution_count": 35,
     "metadata": {},
     "output_type": "execute_result"
    }
   ],
   "source": [
    "synopsis.map(len).mean()"
   ]
  },
  {
   "cell_type": "markdown",
   "metadata": {},
   "source": [
    "# Counting occurrences"
   ]
  },
  {
   "cell_type": "code",
   "execution_count": 38,
   "metadata": {
    "collapsed": false
   },
   "outputs": [],
   "source": [
    "from collections import defaultdict\n",
    "\n",
    "words = defaultdict(int)\n",
    "\n",
    "for syn in synopsis:\n",
    "    for word in syn:\n",
    "        words[word] += 1"
   ]
  },
  {
   "cell_type": "code",
   "execution_count": 39,
   "metadata": {
    "collapsed": false
   },
   "outputs": [],
   "source": [
    "df_words = pd.DataFrame(list(words.items()), columns = ['Word', 'Count'])"
   ]
  },
  {
   "cell_type": "code",
   "execution_count": 40,
   "metadata": {
    "collapsed": false
   },
   "outputs": [
    {
     "data": {
      "text/html": [
       "<div>\n",
       "<table border=\"1\" class=\"dataframe\">\n",
       "  <thead>\n",
       "    <tr style=\"text-align: right;\">\n",
       "      <th></th>\n",
       "      <th>Word</th>\n",
       "      <th>Count</th>\n",
       "    </tr>\n",
       "  </thead>\n",
       "  <tbody>\n",
       "    <tr>\n",
       "      <th>79</th>\n",
       "      <td>each</td>\n",
       "      <td>381</td>\n",
       "    </tr>\n",
       "    <tr>\n",
       "      <th>141</th>\n",
       "      <td>himself</td>\n",
       "      <td>603</td>\n",
       "    </tr>\n",
       "    <tr>\n",
       "      <th>288</th>\n",
       "      <td>named</td>\n",
       "      <td>464</td>\n",
       "    </tr>\n",
       "    <tr>\n",
       "      <th>324</th>\n",
       "      <td>high</td>\n",
       "      <td>620</td>\n",
       "    </tr>\n",
       "    <tr>\n",
       "      <th>367</th>\n",
       "      <td>with</td>\n",
       "      <td>5767</td>\n",
       "    </tr>\n",
       "    <tr>\n",
       "      <th>512</th>\n",
       "      <td>get</td>\n",
       "      <td>798</td>\n",
       "    </tr>\n",
       "    <tr>\n",
       "      <th>532</th>\n",
       "      <td>power</td>\n",
       "      <td>471</td>\n",
       "    </tr>\n",
       "    <tr>\n",
       "      <th>578</th>\n",
       "      <td>has</td>\n",
       "      <td>3376</td>\n",
       "    </tr>\n",
       "    <tr>\n",
       "      <th>636</th>\n",
       "      <td>earth</td>\n",
       "      <td>438</td>\n",
       "    </tr>\n",
       "    <tr>\n",
       "      <th>810</th>\n",
       "      <td>it</td>\n",
       "      <td>3071</td>\n",
       "    </tr>\n",
       "    <tr>\n",
       "      <th>859</th>\n",
       "      <td>long</td>\n",
       "      <td>314</td>\n",
       "    </tr>\n",
       "    <tr>\n",
       "      <th>867</th>\n",
       "      <td>lives</td>\n",
       "      <td>335</td>\n",
       "    </tr>\n",
       "    <tr>\n",
       "      <th>902</th>\n",
       "      <td>finally</td>\n",
       "      <td>322</td>\n",
       "    </tr>\n",
       "    <tr>\n",
       "      <th>1238</th>\n",
       "      <td>have</td>\n",
       "      <td>1716</td>\n",
       "    </tr>\n",
       "    <tr>\n",
       "      <th>1431</th>\n",
       "      <td>known</td>\n",
       "      <td>402</td>\n",
       "    </tr>\n",
       "    <tr>\n",
       "      <th>1559</th>\n",
       "      <td>do</td>\n",
       "      <td>740</td>\n",
       "    </tr>\n",
       "    <tr>\n",
       "      <th>1834</th>\n",
       "      <td>because</td>\n",
       "      <td>306</td>\n",
       "    </tr>\n",
       "    <tr>\n",
       "      <th>1837</th>\n",
       "      <td>school</td>\n",
       "      <td>1436</td>\n",
       "    </tr>\n",
       "    <tr>\n",
       "      <th>1958</th>\n",
       "      <td>an</td>\n",
       "      <td>2895</td>\n",
       "    </tr>\n",
       "    <tr>\n",
       "      <th>1975</th>\n",
       "      <td>end</td>\n",
       "      <td>329</td>\n",
       "    </tr>\n",
       "  </tbody>\n",
       "</table>\n",
       "</div>"
      ],
      "text/plain": [
       "         Word  Count\n",
       "79       each    381\n",
       "141   himself    603\n",
       "288     named    464\n",
       "324      high    620\n",
       "367      with   5767\n",
       "512       get    798\n",
       "532     power    471\n",
       "578       has   3376\n",
       "636     earth    438\n",
       "810        it   3071\n",
       "859      long    314\n",
       "867     lives    335\n",
       "902   finally    322\n",
       "1238     have   1716\n",
       "1431    known    402\n",
       "1559       do    740\n",
       "1834  because    306\n",
       "1837   school   1436\n",
       "1958       an   2895\n",
       "1975      end    329"
      ]
     },
     "execution_count": 40,
     "metadata": {},
     "output_type": "execute_result"
    }
   ],
   "source": [
    "df_words[df_words['Count'] > 300].head(20)"
   ]
  },
  {
   "cell_type": "code",
   "execution_count": 41,
   "metadata": {
    "collapsed": false
   },
   "outputs": [
    {
     "name": "stdout",
     "output_type": "stream",
     "text": [
      "10 4663\n",
      "50 1118\n",
      "100 600\n",
      "150 401\n",
      "200 304\n",
      "300 203\n"
     ]
    }
   ],
   "source": [
    "for i in [10, 50, 100, 150, 200, 300]:\n",
    "    print(i, len(df_words[df_words['Count'] > i]))"
   ]
  },
  {
   "cell_type": "code",
   "execution_count": 42,
   "metadata": {
    "collapsed": true
   },
   "outputs": [],
   "source": [
    "from collections import defaultdict\n",
    "\n",
    "words2 = defaultdict(int)\n",
    "\n",
    "for syn in synopsis:\n",
    "    updated = defaultdict(bool)\n",
    "    for word in syn:\n",
    "        if not updated[word]:\n",
    "            words2[word] += 1\n",
    "            updated[word] = True"
   ]
  },
  {
   "cell_type": "code",
   "execution_count": 43,
   "metadata": {
    "collapsed": true
   },
   "outputs": [],
   "source": [
    "df_words2 = pd.DataFrame(list(words2.items()), columns = ['Word', 'Doc_count'])"
   ]
  },
  {
   "cell_type": "code",
   "execution_count": 44,
   "metadata": {
    "collapsed": false
   },
   "outputs": [
    {
     "name": "stdout",
     "output_type": "stream",
     "text": [
      "10 4065\n",
      "50 1002\n",
      "100 547\n",
      "150 365\n",
      "200 266\n",
      "300 180\n"
     ]
    }
   ],
   "source": [
    "for i in [10, 50, 100, 150, 200, 300]:\n",
    "    print(i, len(df_words2[df_words2['Doc_count'] > i]))"
   ]
  },
  {
   "cell_type": "code",
   "execution_count": 45,
   "metadata": {
    "collapsed": false
   },
   "outputs": [],
   "source": [
    "df_words3 = df_words2[df_words2['Doc_count'] > 100]"
   ]
  },
  {
   "cell_type": "code",
   "execution_count": 22,
   "metadata": {
    "collapsed": false
   },
   "outputs": [
    {
     "data": {
      "text/plain": [
       "103"
      ]
     },
     "execution_count": 22,
     "metadata": {},
     "output_type": "execute_result"
    }
   ],
   "source": [
    "words2['robot']"
   ]
  },
  {
   "cell_type": "code",
   "execution_count": 47,
   "metadata": {
    "collapsed": false
   },
   "outputs": [
    {
     "data": {
      "text/plain": [
       "67        less\n",
       "79        each\n",
       "141    himself\n",
       "248     anyone\n",
       "259    monster\n",
       "Name: Word, dtype: object"
      ]
     },
     "execution_count": 47,
     "metadata": {},
     "output_type": "execute_result"
    }
   ],
   "source": [
    "df_words3[\"Word\"].head()"
   ]
  },
  {
   "cell_type": "code",
   "execution_count": null,
   "metadata": {
    "collapsed": true
   },
   "outputs": [],
   "source": []
  },
  {
   "cell_type": "code",
   "execution_count": null,
   "metadata": {
    "collapsed": true
   },
   "outputs": [],
   "source": []
  },
  {
   "cell_type": "markdown",
   "metadata": {},
   "source": [
    "#"
   ]
  },
  {
   "cell_type": "code",
   "execution_count": 87,
   "metadata": {
    "collapsed": false
   },
   "outputs": [],
   "source": [
    "df_words3 = df_words2[(df_words2['Doc_count'] > 100) & (df_words2['Doc_count'] < 1000)]"
   ]
  },
  {
   "cell_type": "code",
   "execution_count": 88,
   "metadata": {
    "collapsed": true
   },
   "outputs": [],
   "source": [
    "word_list = list(df_words3[\"Word\"])"
   ]
  },
  {
   "cell_type": "code",
   "execution_count": 89,
   "metadata": {
    "collapsed": false
   },
   "outputs": [
    {
     "data": {
      "text/plain": [
       "500"
      ]
     },
     "execution_count": 89,
     "metadata": {},
     "output_type": "execute_result"
    }
   ],
   "source": [
    "len(word_list)"
   ]
  },
  {
   "cell_type": "code",
   "execution_count": 90,
   "metadata": {
    "collapsed": false
   },
   "outputs": [
    {
     "data": {
      "text/plain": [
       "['less',\n",
       " 'each',\n",
       " 'himself',\n",
       " 'anyone',\n",
       " 'monster',\n",
       " 'named',\n",
       " 'high',\n",
       " 'dream',\n",
       " 'events',\n",
       " 'get',\n",
       " 'power',\n",
       " 'earth',\n",
       " 'found',\n",
       " 'true',\n",
       " 'long',\n",
       " 'lives',\n",
       " 'finally',\n",
       " 'alien',\n",
       " \"'re\",\n",
       " 'island',\n",
       " 'far',\n",
       " 'begins',\n",
       " 'ca',\n",
       " 'quickly',\n",
       " 'instead',\n",
       " 'great',\n",
       " 'spirit',\n",
       " 'known',\n",
       " 'do',\n",
       " 'next',\n",
       " 'because',\n",
       " 'school',\n",
       " 'land',\n",
       " 'end',\n",
       " 'destroy',\n",
       " 'game',\n",
       " 'war',\n",
       " 'classmates',\n",
       " 'leads',\n",
       " 'enemy',\n",
       " 'had',\n",
       " 'gets',\n",
       " '!',\n",
       " 'back',\n",
       " 'unfortunately',\n",
       " 'course',\n",
       " 'mission',\n",
       " 'makes',\n",
       " 'themselves',\n",
       " 'seems',\n",
       " 'daughter',\n",
       " 'middle',\n",
       " 'matter',\n",
       " 'going',\n",
       " 'means',\n",
       " 'about',\n",
       " 'woman',\n",
       " 'take',\n",
       " 'together',\n",
       " 'close',\n",
       " 'sister',\n",
       " 'gang',\n",
       " 'job',\n",
       " 'having',\n",
       " 'does',\n",
       " 'appears',\n",
       " 'how',\n",
       " 'search',\n",
       " 'protect',\n",
       " 'nature',\n",
       " \"''\",\n",
       " 'final',\n",
       " 'old',\n",
       " 'seeks',\n",
       " 'people',\n",
       " 'got',\n",
       " 'club',\n",
       " 'lead',\n",
       " 'however',\n",
       " 'rest',\n",
       " '(',\n",
       " 'interest',\n",
       " 'discovers',\n",
       " 'these',\n",
       " 'death',\n",
       " 'becoming',\n",
       " 'better',\n",
       " 'past',\n",
       " 'meets',\n",
       " 'no',\n",
       " 'skills',\n",
       " 'looking',\n",
       " 'under',\n",
       " 'business',\n",
       " 'black',\n",
       " 'caught',\n",
       " 'figure',\n",
       " 'actually',\n",
       " 'problems',\n",
       " 'young']"
      ]
     },
     "execution_count": 90,
     "metadata": {},
     "output_type": "execute_result"
    }
   ],
   "source": [
    "word_list[:100]"
   ]
  },
  {
   "cell_type": "code",
   "execution_count": 91,
   "metadata": {
    "collapsed": false
   },
   "outputs": [],
   "source": [
    "fitered_synopsis = synopsis.map(lambda syn: [word for word in syn if word in word_list])"
   ]
  },
  {
   "cell_type": "code",
   "execution_count": 92,
   "metadata": {
    "collapsed": false
   },
   "outputs": [
    {
     "data": {
      "text/plain": [
       "35.79300431241016"
      ]
     },
     "execution_count": 92,
     "metadata": {},
     "output_type": "execute_result"
    }
   ],
   "source": [
    "fitered_synopsis.map(len).mean()"
   ]
  },
  {
   "cell_type": "code",
   "execution_count": 130,
   "metadata": {
    "collapsed": false
   },
   "outputs": [],
   "source": [
    "pair_count = defaultdict(int)\n",
    "\n",
    "for syn in fitered_synopsis:\n",
    "    updated = defaultdict(bool)\n",
    "    for w1 in syn:\n",
    "        for w2 in syn:\n",
    "            if w1 < w2 and not updated[(w1,w2)]:\n",
    "                pair_count[(w1,w2)] += 1\n",
    "                updated[(w1,w2)]= True"
   ]
  },
  {
   "cell_type": "code",
   "execution_count": 131,
   "metadata": {
    "collapsed": false
   },
   "outputs": [
    {
     "data": {
      "text/plain": [
       "124129"
      ]
     },
     "execution_count": 131,
     "metadata": {},
     "output_type": "execute_result"
    }
   ],
   "source": [
    "len(pair_count)"
   ]
  },
  {
   "cell_type": "code",
   "execution_count": 132,
   "metadata": {
    "collapsed": false
   },
   "outputs": [],
   "source": [
    "pair_count_series = pd.Series(pair_count)"
   ]
  },
  {
   "cell_type": "code",
   "execution_count": 133,
   "metadata": {
    "collapsed": false
   },
   "outputs": [
    {
     "data": {
      "text/plain": [
       "18.36330752684707"
      ]
     },
     "execution_count": 133,
     "metadata": {},
     "output_type": "execute_result"
    }
   ],
   "source": [
    "pair_count_series.mean()"
   ]
  },
  {
   "cell_type": "code",
   "execution_count": 135,
   "metadata": {
    "collapsed": false
   },
   "outputs": [
    {
     "data": {
      "text/plain": [
       "(       )          980\n",
       "''      ``         446\n",
       "high    school     442\n",
       "more    than       431\n",
       "(       which      337\n",
       ")       which      337\n",
       "        also       310\n",
       "(       also       309\n",
       "even    more       293\n",
       "girl    school     292\n",
       ")       school     290\n",
       "(       school     289\n",
       "also    which      281\n",
       "about   what       272\n",
       "school  student    270\n",
       "(       even       269\n",
       ")       even       269\n",
       "        girl       266\n",
       "about   more       264\n",
       ")       or         264\n",
       "(       girl       264\n",
       ")       more       262\n",
       "        :          262\n",
       "(       or         262\n",
       "        more       261\n",
       "        :          260\n",
       "life    school     258\n",
       ")       world      255\n",
       "(       world      254\n",
       "        other      254\n",
       "                  ... \n",
       "more    while      226\n",
       ":       what       224\n",
       "what    world      223\n",
       ":       new        223\n",
       "(       some       223\n",
       ")       some       223\n",
       "        though     223\n",
       "(       though     222\n",
       ":       more       222\n",
       "school  so         222\n",
       "now     world      222\n",
       "even    world      221\n",
       "        which      221\n",
       "which   world      220\n",
       "just    school     220\n",
       "also    other      219\n",
       "        while      219\n",
       "new     which      219\n",
       "after   new        219\n",
       "about   life       219\n",
       "life    world      219\n",
       "also    girl       218\n",
       "about   while      218\n",
       "girl    which      217\n",
       ":       other      217\n",
       "new     while      217\n",
       "other   which      216\n",
       "about   other      216\n",
       ")       after      215\n",
       "or      world      215\n",
       "dtype: int64"
      ]
     },
     "execution_count": 135,
     "metadata": {},
     "output_type": "execute_result"
    }
   ],
   "source": [
    "pair_count_series.sort_values(ascending = False)[:100]"
   ]
  },
  {
   "cell_type": "code",
   "execution_count": 136,
   "metadata": {
    "collapsed": true
   },
   "outputs": [],
   "source": [
    "word_matrix = pd.DataFrame(columns = word_list, index = word_list)"
   ]
  },
  {
   "cell_type": "code",
   "execution_count": 137,
   "metadata": {
    "collapsed": true
   },
   "outputs": [],
   "source": [
    "for pair, count in pair_count.items(): \n",
    "    word_matrix[pair[0]][pair[1]] = count"
   ]
  },
  {
   "cell_type": "code",
   "execution_count": 147,
   "metadata": {
    "collapsed": true
   },
   "outputs": [],
   "source": [
    "df_pairs = pd.DataFrame()"
   ]
  },
  {
   "cell_type": "code",
   "execution_count": 146,
   "metadata": {
    "collapsed": false
   },
   "outputs": [
    {
     "data": {
      "text/plain": [
       "array([281, 448, 157, ..., 530, 161, 161], dtype=int64)"
      ]
     },
     "execution_count": 146,
     "metadata": {},
     "output_type": "execute_result"
    }
   ],
   "source": [
    "df_pairs['A'] = pair_count_series.index.map(lambda pair: pair[0])\n",
    "df_pairs['B'] = \n",
    "df_pairs['P(A)'] = pair_count_series.index.map(lambda pair: words2[pair[0]]/len(df))\n",
    "df_pairs['P(B)'] = pair_count_series.index.map(lambda pair: words2[pair[1]]/len(df))"
   ]
  },
  {
   "cell_type": "code",
   "execution_count": null,
   "metadata": {
    "collapsed": true
   },
   "outputs": [],
   "source": []
  },
  {
   "cell_type": "code",
   "execution_count": null,
   "metadata": {
    "collapsed": true
   },
   "outputs": [],
   "source": []
  },
  {
   "cell_type": "code",
   "execution_count": null,
   "metadata": {
    "collapsed": true
   },
   "outputs": [],
   "source": []
  },
  {
   "cell_type": "code",
   "execution_count": null,
   "metadata": {
    "collapsed": true
   },
   "outputs": [],
   "source": []
  },
  {
   "cell_type": "code",
   "execution_count": null,
   "metadata": {
    "collapsed": true
   },
   "outputs": [],
   "source": []
  },
  {
   "cell_type": "code",
   "execution_count": null,
   "metadata": {
    "collapsed": true
   },
   "outputs": [],
   "source": []
  }
 ],
 "metadata": {
  "anaconda-cloud": {},
  "kernelspec": {
   "display_name": "Python [default]",
   "language": "python",
   "name": "python3"
  },
  "language_info": {
   "codemirror_mode": {
    "name": "ipython",
    "version": 3
   },
   "file_extension": ".py",
   "mimetype": "text/x-python",
   "name": "python",
   "nbconvert_exporter": "python",
   "pygments_lexer": "ipython3",
   "version": "3.5.2"
  }
 },
 "nbformat": 4,
 "nbformat_minor": 1
}
